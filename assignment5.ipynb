{
 "cells": [
  {
   "cell_type": "code",
   "execution_count": 1,
   "id": "cbeddaab-0130-4b00-b0fc-538830274dd4",
   "metadata": {},
   "outputs": [],
   "source": [
    "#Class and Object with respect to Object-Oriented Programming."
   ]
  },
  {
   "cell_type": "code",
   "execution_count": 2,
   "id": "85a9334b-c6b6-4e96-ab9c-e988356d600e",
   "metadata": {},
   "outputs": [],
   "source": [
    "#class is a blueprint that describes some properties and characteristic while object is the instance created in clas that has property and characteritic attached."
   ]
  },
  {
   "cell_type": "code",
   "execution_count": 3,
   "id": "faf8583b-dd83-4b44-b8d7-df6d3422a989",
   "metadata": {},
   "outputs": [],
   "source": [
    "#example that class of college student contains function such as student phone number ,email id  ,marks and object object_name is a instance created"
   ]
  },
  {
   "cell_type": "code",
   "execution_count": 4,
   "id": "6927c133-4a5c-4c41-a61e-5cc57c76a45b",
   "metadata": {},
   "outputs": [],
   "source": [
    "#the four pillars of OOPs."
   ]
  },
  {
   "cell_type": "code",
   "execution_count": 5,
   "id": "4d8b433a-1dc0-4972-987a-d05d5dc8b794",
   "metadata": {},
   "outputs": [],
   "source": [
    "#four pillar of oops are abstraction ,Encapsulation,polymorphism and inheritance"
   ]
  },
  {
   "cell_type": "code",
   "execution_count": 6,
   "id": "7520da4e-3d5d-4a0f-bfae-d1608dcbee9b",
   "metadata": {},
   "outputs": [],
   "source": [
    "#Explain why the __init__() function is used. Give a suitable example."
   ]
  },
  {
   "cell_type": "code",
   "execution_count": 7,
   "id": "3720094e-4e88-4e5b-9fae-b5170b16d5aa",
   "metadata": {},
   "outputs": [],
   "source": [
    "#__init__() function is used to intialize attributes of class object"
   ]
  },
  {
   "cell_type": "code",
   "execution_count": 77,
   "id": "4798b560-0d4c-4fcd-8ea4-f3a7fab5a16e",
   "metadata": {},
   "outputs": [],
   "source": [
    "class students:\n",
    "    \n",
    "    def  __init__(self,student_email ,age):\n",
    "        \n",
    "        self.student_email = student_email\n",
    "        self.age = age\n",
    "            \n",
    "            \n",
    "    def student_data(self):\n",
    "        return self.student_email,self.age"
   ]
  },
  {
   "cell_type": "code",
   "execution_count": 78,
   "id": "504cee24-45a0-4338-b77b-9dcd0993ddf9",
   "metadata": {},
   "outputs": [],
   "source": [
    "kosi = students(\"kosi@gmail.com\",32)"
   ]
  },
  {
   "cell_type": "code",
   "execution_count": 80,
   "id": "946aafe8-37fc-471d-a3cc-896e9fe6106c",
   "metadata": {},
   "outputs": [
    {
     "data": {
      "text/plain": [
       "'kosi@gmail.com'"
      ]
     },
     "execution_count": 80,
     "metadata": {},
     "output_type": "execute_result"
    }
   ],
   "source": [
    "kosi.student_email"
   ]
  },
  {
   "cell_type": "code",
   "execution_count": 81,
   "id": "c3719430-b481-444d-a02d-81a2d5da932d",
   "metadata": {},
   "outputs": [],
   "source": [
    "#Why self is used in OOPs?"
   ]
  },
  {
   "cell_type": "code",
   "execution_count": 82,
   "id": "3c4ce453-fca1-4bb2-ac45-03dd339b550e",
   "metadata": {},
   "outputs": [],
   "source": [
    "#self represent to the instances of the class"
   ]
  },
  {
   "cell_type": "code",
   "execution_count": 83,
   "id": "3b310f94-f2d2-44e1-a17f-17f94108fa4c",
   "metadata": {},
   "outputs": [],
   "source": [
    "#What is inheritance? Give an example for each type of inheritance."
   ]
  },
  {
   "cell_type": "code",
   "execution_count": 95,
   "id": "c60546bd-9979-415c-847c-af9e8b00c9cc",
   "metadata": {},
   "outputs": [],
   "source": [
    "#inheritance isthe property of one class inherited from other class"
   ]
  },
  {
   "cell_type": "code",
   "execution_count": null,
   "id": "ffef2d45-6f9c-48ed-944e-2c0ab1a910f3",
   "metadata": {},
   "outputs": [],
   "source": [
    "#example of multiple inheritance"
   ]
  },
  {
   "cell_type": "code",
   "execution_count": 86,
   "id": "5efd7070-8ae2-4695-86b1-0e7fcbfdfe48",
   "metadata": {},
   "outputs": [],
   "source": [
    "class number:\n",
    "    def mentor_phone(self):\n",
    "        print(\"mentor phone number is 98989898998\")\n",
    "        "
   ]
  },
  {
   "cell_type": "code",
   "execution_count": 87,
   "id": "29ec6045-4ea8-4ba8-889f-52ab3e899cac",
   "metadata": {},
   "outputs": [],
   "source": [
    "class email:\n",
    "    def mentor_email(self):\n",
    "        print(\"mentor email is mentor@gmail.com\")"
   ]
  },
  {
   "cell_type": "code",
   "execution_count": 89,
   "id": "96a2026b-1929-4c57-9d54-b086c4b4f345",
   "metadata": {},
   "outputs": [],
   "source": [
    "class mentor_info(number,email):\n",
    "    def mentor_name(self):\n",
    "        print(\"mentor name is kosi\")\n",
    "        \n",
    "        \n",
    "    "
   ]
  },
  {
   "cell_type": "code",
   "execution_count": 90,
   "id": "96ddbea7-9a24-4761-b35b-540db9f2de01",
   "metadata": {},
   "outputs": [],
   "source": [
    "detail=mentor_info()"
   ]
  },
  {
   "cell_type": "code",
   "execution_count": 92,
   "id": "16dc5d2e-c13a-40c7-840c-67ab87675714",
   "metadata": {},
   "outputs": [
    {
     "name": "stdout",
     "output_type": "stream",
     "text": [
      "mentor email is mentor@gmail.com\n"
     ]
    }
   ],
   "source": [
    "detail.mentor_email()"
   ]
  },
  {
   "cell_type": "code",
   "execution_count": 93,
   "id": "45cc72d5-bbba-4333-8124-11d68e32e11b",
   "metadata": {},
   "outputs": [
    {
     "name": "stdout",
     "output_type": "stream",
     "text": [
      "mentor name is kosi\n"
     ]
    }
   ],
   "source": [
    "detail.mentor_name()"
   ]
  },
  {
   "cell_type": "code",
   "execution_count": 94,
   "id": "5b0b799a-2c4c-4221-9c15-103ebea63504",
   "metadata": {},
   "outputs": [
    {
     "name": "stdout",
     "output_type": "stream",
     "text": [
      "mentor phone number is 98989898998\n"
     ]
    }
   ],
   "source": [
    "detail.mentor_phone()"
   ]
  },
  {
   "cell_type": "code",
   "execution_count": 1,
   "id": "4eb0fbef-b82e-4cf3-974f-0f01bf0c3e18",
   "metadata": {},
   "outputs": [],
   "source": [
    "# example of single inheritance"
   ]
  },
  {
   "cell_type": "code",
   "execution_count": 2,
   "id": "ea68e199-7ab4-4f88-815f-fb99c68d270f",
   "metadata": {},
   "outputs": [],
   "source": [
    "class parent:\n",
    "    def parent(self):\n",
    "        print(\"parent name is here\")"
   ]
  },
  {
   "cell_type": "code",
   "execution_count": 3,
   "id": "bb23816f-0760-4e36-bc4d-6c2ef7653bf6",
   "metadata": {},
   "outputs": [],
   "source": [
    "class child(parent):\n",
    "    def  child(self):\n",
    "        print(\"child name is here\")"
   ]
  },
  {
   "cell_type": "code",
   "execution_count": 4,
   "id": "a1be7ea0-a1aa-4cab-8151-1fac69573e88",
   "metadata": {},
   "outputs": [],
   "source": [
    "n=child()"
   ]
  },
  {
   "cell_type": "code",
   "execution_count": 5,
   "id": "4f002a13-f817-4b3d-9b75-2c332969a009",
   "metadata": {},
   "outputs": [
    {
     "name": "stdout",
     "output_type": "stream",
     "text": [
      "parent name is here\n"
     ]
    }
   ],
   "source": [
    "n.parent()"
   ]
  },
  {
   "cell_type": "code",
   "execution_count": 6,
   "id": "e415c0f0-da40-4e2d-825e-72b8c8a5086c",
   "metadata": {},
   "outputs": [
    {
     "name": "stdout",
     "output_type": "stream",
     "text": [
      "child name is here\n"
     ]
    }
   ],
   "source": [
    "n.child()"
   ]
  },
  {
   "cell_type": "code",
   "execution_count": 7,
   "id": "209c2647-fb7b-4021-9020-fd1e75661491",
   "metadata": {},
   "outputs": [],
   "source": [
    "#example of multi level inheritance"
   ]
  },
  {
   "cell_type": "code",
   "execution_count": 37,
   "id": "03018cb4-aaf8-4bab-a42d-16b9c57e3861",
   "metadata": {},
   "outputs": [],
   "source": [
    "class grandfather:\n",
    "    def __init__(self,grandfathername):\n",
    "        self.grandfathername=grandfathername\n",
    "class father(grandfather):\n",
    "    def __init__(self,fathername,grandfathername):\n",
    "        self.fathername=fathername\n",
    "        grandfather.__init__(self,grandfathername)\n",
    "class son(father):\n",
    "    def __init__(self,sonname,fathername,grandfathername):\n",
    "        self.sonname=sonname\n",
    "        father.__init__(self,fathername,grandfathername)\n",
    "    def returnvalues(self):\n",
    "        print(self.sonname,self.fathername,self.grandfathername)\n",
    "        \n",
    "    \n",
    "    "
   ]
  },
  {
   "cell_type": "code",
   "execution_count": 43,
   "id": "bd7a09d8-b082-4d0d-bdc0-9a3e7f9f44dd",
   "metadata": {},
   "outputs": [],
   "source": [
    "n=son(\"chaman\",\"raman\",\"kalu\")"
   ]
  },
  {
   "cell_type": "code",
   "execution_count": 44,
   "id": "f45b956b-c7d7-4c63-b775-58c008ff62c2",
   "metadata": {},
   "outputs": [
    {
     "name": "stdout",
     "output_type": "stream",
     "text": [
      "chaman\n"
     ]
    }
   ],
   "source": [
    "print(n.sonname)"
   ]
  },
  {
   "cell_type": "code",
   "execution_count": 45,
   "id": "c41761a2-f789-42a4-a2e6-5f6fbb8a8757",
   "metadata": {},
   "outputs": [
    {
     "name": "stdout",
     "output_type": "stream",
     "text": [
      "chaman raman kalu\n"
     ]
    }
   ],
   "source": [
    "n.returnvalues()"
   ]
  },
  {
   "cell_type": "code",
   "execution_count": 46,
   "id": "5b190ebc-d31b-49dd-bac7-3822055f7a17",
   "metadata": {},
   "outputs": [
    {
     "data": {
      "text/plain": [
       "'kalu'"
      ]
     },
     "execution_count": 46,
     "metadata": {},
     "output_type": "execute_result"
    }
   ],
   "source": [
    "n.grandfathername"
   ]
  },
  {
   "cell_type": "code",
   "execution_count": null,
   "id": "18c52ac1-0c28-42a3-bd54-e097d7e67464",
   "metadata": {},
   "outputs": [],
   "source": []
  }
 ],
 "metadata": {
  "kernelspec": {
   "display_name": "Python 3 (ipykernel)",
   "language": "python",
   "name": "python3"
  },
  "language_info": {
   "codemirror_mode": {
    "name": "ipython",
    "version": 3
   },
   "file_extension": ".py",
   "mimetype": "text/x-python",
   "name": "python",
   "nbconvert_exporter": "python",
   "pygments_lexer": "ipython3",
   "version": "3.10.8"
  }
 },
 "nbformat": 4,
 "nbformat_minor": 5
}
