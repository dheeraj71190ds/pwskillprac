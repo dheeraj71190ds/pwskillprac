{
 "cells": [
  {
   "cell_type": "code",
   "execution_count": null,
   "id": "420e5045-5515-4ddb-889e-9fb93e070d11",
   "metadata": {},
   "outputs": [],
   "source": [
    "#Create a python program to sort the given list of tuples based on integer value using a\n",
    "#lambda function."
   ]
  },
  {
   "cell_type": "code",
   "execution_count": 56,
   "id": "5774f0f2-2b55-4dd7-92e3-010bb5c7388b",
   "metadata": {},
   "outputs": [],
   "source": [
    "y=[('Sachin Tendulkar', 34357), ('Ricky Ponting', 27483), ('Jack Kallis', 25534), ('Virat Kohli', 24936)]"
   ]
  },
  {
   "cell_type": "code",
   "execution_count": 57,
   "id": "6d6f4280-66bd-4953-9072-cdd1e831450c",
   "metadata": {},
   "outputs": [],
   "source": [
    "z=lambda x: (j for i in x for j in i if type(j)==int)"
   ]
  },
  {
   "cell_type": "code",
   "execution_count": 58,
   "id": "cb991061-4a95-49b7-9490-9cbf489723fc",
   "metadata": {},
   "outputs": [
    {
     "data": {
      "text/plain": [
       "[34357, 27483, 25534, 24936]"
      ]
     },
     "execution_count": 58,
     "metadata": {},
     "output_type": "execute_result"
    }
   ],
   "source": [
    "list(z(y))"
   ]
  },
  {
   "cell_type": "code",
   "execution_count": null,
   "id": "5271dce0-d808-4ffb-aebb-fb1c8b75efb8",
   "metadata": {},
   "outputs": [],
   "source": [
    "#a Python Program to find the squares of all the numbers in the given list of integers using\n",
    "#lambda and map functions."
   ]
  },
  {
   "cell_type": "code",
   "execution_count": 60,
   "id": "15ffdd98-6a45-47dc-9282-e9f1a7ed6652",
   "metadata": {},
   "outputs": [],
   "source": [
    "l=[1, 2, 3, 4, 5, 6, 7, 8, 9, 10]"
   ]
  },
  {
   "cell_type": "code",
   "execution_count": 61,
   "id": "c3fc5fb5-0474-4450-9384-fc79e814b737",
   "metadata": {},
   "outputs": [
    {
     "data": {
      "text/plain": [
       "[1, 4, 9, 16, 25, 36, 49, 64, 81, 100]"
      ]
     },
     "execution_count": 61,
     "metadata": {},
     "output_type": "execute_result"
    }
   ],
   "source": [
    "list(map(lambda x: x**2,l))"
   ]
  },
  {
   "cell_type": "code",
   "execution_count": null,
   "id": "0473d661-6842-43cf-8649-fce29a73a9ba",
   "metadata": {},
   "outputs": [],
   "source": [
    "#a python program to convert the given list of integers into a tuple of strings. Use map and\n",
    "#lambda functions"
   ]
  },
  {
   "cell_type": "code",
   "execution_count": 30,
   "id": "b8c6d369-06dc-414b-8fcb-bbc87f1ccc00",
   "metadata": {},
   "outputs": [],
   "source": [
    "k=[1, 2, 3, 4, 5, 6, 7, 8, 9, 10]"
   ]
  },
  {
   "cell_type": "code",
   "execution_count": 31,
   "id": "31306caf-e2b6-48d7-bfb4-e5c442e8448e",
   "metadata": {},
   "outputs": [],
   "source": [
    "j=map(lambda x:str(x),k)"
   ]
  },
  {
   "cell_type": "code",
   "execution_count": 32,
   "id": "f68044d9-23f3-43b2-9608-e106ac7e7282",
   "metadata": {},
   "outputs": [
    {
     "data": {
      "text/plain": [
       "('1', '2', '3', '4', '5', '6', '7', '8', '9', '10')"
      ]
     },
     "execution_count": 32,
     "metadata": {},
     "output_type": "execute_result"
    }
   ],
   "source": [
    "tuple(j)"
   ]
  },
  {
   "cell_type": "code",
   "execution_count": 33,
   "id": "58d676f6-500d-45aa-9a16-4b67275a6498",
   "metadata": {},
   "outputs": [],
   "source": [
    "#program using reduce function to compute the product of a list containing numbers\n",
    "#from 1 to 25."
   ]
  },
  {
   "cell_type": "code",
   "execution_count": 8,
   "id": "9a63595f-bd61-42ec-a63d-74ab020ff4eb",
   "metadata": {},
   "outputs": [],
   "source": [
    "x=list(range(1,26))"
   ]
  },
  {
   "cell_type": "code",
   "execution_count": 9,
   "id": "e9b9cca8-598b-4455-9fa2-cc2130149a2b",
   "metadata": {},
   "outputs": [
    {
     "data": {
      "text/plain": [
       "[1,\n",
       " 2,\n",
       " 3,\n",
       " 4,\n",
       " 5,\n",
       " 6,\n",
       " 7,\n",
       " 8,\n",
       " 9,\n",
       " 10,\n",
       " 11,\n",
       " 12,\n",
       " 13,\n",
       " 14,\n",
       " 15,\n",
       " 16,\n",
       " 17,\n",
       " 18,\n",
       " 19,\n",
       " 20,\n",
       " 21,\n",
       " 22,\n",
       " 23,\n",
       " 24,\n",
       " 25]"
      ]
     },
     "execution_count": 9,
     "metadata": {},
     "output_type": "execute_result"
    }
   ],
   "source": [
    "x"
   ]
  },
  {
   "cell_type": "code",
   "execution_count": 10,
   "id": "8492a103-0d72-4d10-974e-34ee5e27cb20",
   "metadata": {},
   "outputs": [],
   "source": [
    "from functools import reduce\n",
    "y= reduce(lambda z,a:z*a,x)"
   ]
  },
  {
   "cell_type": "code",
   "execution_count": 11,
   "id": "712d65b2-68b7-4789-b023-b8093c55728f",
   "metadata": {},
   "outputs": [
    {
     "data": {
      "text/plain": [
       "15511210043330985984000000"
      ]
     },
     "execution_count": 11,
     "metadata": {},
     "output_type": "execute_result"
    }
   ],
   "source": [
    "y"
   ]
  },
  {
   "cell_type": "code",
   "execution_count": 13,
   "id": "d9d22e5f-ca31-44f8-b095-4e6dbd4ba722",
   "metadata": {},
   "outputs": [],
   "source": [
    "#python program to filter the numbers in a given list that are divisible by 2 and 3 using the\n",
    "#filter function."
   ]
  },
  {
   "cell_type": "code",
   "execution_count": 1,
   "id": "895f3cc0-0df1-4cd8-9e7c-9278760fbe81",
   "metadata": {},
   "outputs": [],
   "source": [
    "y=[2, 3, 6, 9, 27, 60, 90, 120, 55, 46]"
   ]
  },
  {
   "cell_type": "code",
   "execution_count": 24,
   "id": "cbe1802c-464e-42ef-9ebf-9345bb58b13d",
   "metadata": {},
   "outputs": [
    {
     "data": {
      "text/plain": [
       "[2, 3, 6, 9, 27, 60, 90, 120, 55, 46]"
      ]
     },
     "execution_count": 24,
     "metadata": {},
     "output_type": "execute_result"
    }
   ],
   "source": [
    "y"
   ]
  },
  {
   "cell_type": "code",
   "execution_count": 25,
   "id": "99954b4e-e4fe-47b2-8b0e-9ee81ae4053e",
   "metadata": {},
   "outputs": [
    {
     "data": {
      "text/plain": [
       "[2, 3, 6, 9, 27, 60, 90, 120, 46]"
      ]
     },
     "execution_count": 25,
     "metadata": {},
     "output_type": "execute_result"
    }
   ],
   "source": [
    "list(filter (lambda x: x%2==0 or x%3==0,y))"
   ]
  },
  {
   "cell_type": "code",
   "execution_count": 1,
   "id": "2dc45dd3-717f-4bc7-909b-0429cad1e670",
   "metadata": {},
   "outputs": [],
   "source": [
    "#a python program to find palindromes in the given list of strings using lambda and filter\n",
    "#function."
   ]
  },
  {
   "cell_type": "code",
   "execution_count": 11,
   "id": "478c6187-36c4-4a13-be83-25903107925a",
   "metadata": {},
   "outputs": [],
   "source": [
    "m=['python', 'php', 'aba', 'radar', 'level']"
   ]
  },
  {
   "cell_type": "code",
   "execution_count": 19,
   "id": "e4bb76e3-8974-4f80-81c7-3e57a509717a",
   "metadata": {},
   "outputs": [
    {
     "data": {
      "text/plain": [
       "['php', 'aba', 'radar', 'level']"
      ]
     },
     "execution_count": 19,
     "metadata": {},
     "output_type": "execute_result"
    }
   ],
   "source": [
    "list(filter(lambda x: x==x[::-1],m))"
   ]
  },
  {
   "cell_type": "code",
   "execution_count": null,
   "id": "c49448ba-e469-4d8e-8890-7e029770a2ef",
   "metadata": {},
   "outputs": [],
   "source": []
  },
  {
   "cell_type": "code",
   "execution_count": null,
   "id": "9c491f88-af0a-40fd-a062-0166947b09ae",
   "metadata": {},
   "outputs": [],
   "source": []
  }
 ],
 "metadata": {
  "kernelspec": {
   "display_name": "Python 3 (ipykernel)",
   "language": "python",
   "name": "python3"
  },
  "language_info": {
   "codemirror_mode": {
    "name": "ipython",
    "version": 3
   },
   "file_extension": ".py",
   "mimetype": "text/x-python",
   "name": "python",
   "nbconvert_exporter": "python",
   "pygments_lexer": "ipython3",
   "version": "3.10.8"
  }
 },
 "nbformat": 4,
 "nbformat_minor": 5
}
