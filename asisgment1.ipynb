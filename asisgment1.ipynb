{
 "cells": [
  {
   "cell_type": "code",
   "execution_count": 1,
   "id": "df9afe53-428f-4085-8731-d3b924664aa7",
   "metadata": {},
   "outputs": [],
   "source": [
    "# one variables containing datatype"
   ]
  },
  {
   "cell_type": "code",
   "execution_count": 2,
   "id": "56cf20fe-8355-4c24-9ab5-e4b2a9985957",
   "metadata": {},
   "outputs": [],
   "source": [
    "x=\"ds\""
   ]
  },
  {
   "cell_type": "code",
   "execution_count": 3,
   "id": "9c909ab2-4f80-4716-8498-9fef37a6310a",
   "metadata": {},
   "outputs": [
    {
     "data": {
      "text/plain": [
       "'ds'"
      ]
     },
     "execution_count": 3,
     "metadata": {},
     "output_type": "execute_result"
    }
   ],
   "source": [
    "x"
   ]
  },
  {
   "cell_type": "code",
   "execution_count": 5,
   "id": "b38adae4-f806-46c2-b204-e8cfbd8d89a0",
   "metadata": {},
   "outputs": [
    {
     "data": {
      "text/plain": [
       "str"
      ]
     },
     "execution_count": 5,
     "metadata": {},
     "output_type": "execute_result"
    }
   ],
   "source": [
    "type(x)"
   ]
  },
  {
   "cell_type": "code",
   "execution_count": 8,
   "id": "b7fd969d-c13d-476b-b35a-a8055bfc534b",
   "metadata": {},
   "outputs": [],
   "source": [
    "x=[1,2,3,4,6]"
   ]
  },
  {
   "cell_type": "code",
   "execution_count": 9,
   "id": "a4b35765-e62d-4ec1-a853-e116a74d7050",
   "metadata": {},
   "outputs": [
    {
     "data": {
      "text/plain": [
       "[1, 2, 3, 4, 6]"
      ]
     },
     "execution_count": 9,
     "metadata": {},
     "output_type": "execute_result"
    }
   ],
   "source": [
    "x"
   ]
  },
  {
   "cell_type": "code",
   "execution_count": 10,
   "id": "a351162b-77c3-4c18-a1a0-ed0e5b14ea07",
   "metadata": {},
   "outputs": [
    {
     "data": {
      "text/plain": [
       "list"
      ]
     },
     "execution_count": 10,
     "metadata": {},
     "output_type": "execute_result"
    }
   ],
   "source": [
    "type(x)"
   ]
  },
  {
   "cell_type": "code",
   "execution_count": 11,
   "id": "36c673f3-bb54-4c17-bb6c-4c051f849862",
   "metadata": {},
   "outputs": [],
   "source": [
    "x=2.4567\n"
   ]
  },
  {
   "cell_type": "code",
   "execution_count": 12,
   "id": "dd3f6945-39cb-4637-af9b-17065a71b78c",
   "metadata": {},
   "outputs": [
    {
     "data": {
      "text/plain": [
       "2.4567"
      ]
     },
     "execution_count": 12,
     "metadata": {},
     "output_type": "execute_result"
    }
   ],
   "source": [
    "x"
   ]
  },
  {
   "cell_type": "code",
   "execution_count": 13,
   "id": "7d12eae8-aeb6-42aa-88ed-dfdea7f6d459",
   "metadata": {},
   "outputs": [
    {
     "data": {
      "text/plain": [
       "float"
      ]
     },
     "execution_count": 13,
     "metadata": {},
     "output_type": "execute_result"
    }
   ],
   "source": [
    "type(x)"
   ]
  },
  {
   "cell_type": "code",
   "execution_count": 17,
   "id": "242ddb5e-4dbe-4bf1-abfc-4cc121103088",
   "metadata": {},
   "outputs": [],
   "source": [
    "x=(1,2,3,4,'ds',2.456)"
   ]
  },
  {
   "cell_type": "code",
   "execution_count": 18,
   "id": "6692a03b-f12c-478f-9969-802916bb7dff",
   "metadata": {},
   "outputs": [
    {
     "data": {
      "text/plain": [
       "(1, 2, 3, 4, 'ds', 2.456)"
      ]
     },
     "execution_count": 18,
     "metadata": {},
     "output_type": "execute_result"
    }
   ],
   "source": [
    "x"
   ]
  },
  {
   "cell_type": "code",
   "execution_count": 19,
   "id": "8e42c031-ca79-4dd6-b185-35e6eaec8c8a",
   "metadata": {},
   "outputs": [
    {
     "data": {
      "text/plain": [
       "tuple"
      ]
     },
     "execution_count": 19,
     "metadata": {},
     "output_type": "execute_result"
    }
   ],
   "source": [
    "type(x)"
   ]
  },
  {
   "cell_type": "code",
   "execution_count": 21,
   "id": "0560c24d-4fd1-4bd5-ab9b-b0f9b0644bdf",
   "metadata": {},
   "outputs": [
    {
     "data": {
      "text/plain": [
       "3"
      ]
     },
     "execution_count": 21,
     "metadata": {},
     "output_type": "execute_result"
    }
   ],
   "source": [
    "x[2]"
   ]
  },
  {
   "cell_type": "code",
   "execution_count": 22,
   "id": "0fadb86f-fccd-48af-9ab2-47c44c0c0764",
   "metadata": {},
   "outputs": [],
   "source": [
    "#datatype of the followimg variables"
   ]
  },
  {
   "cell_type": "code",
   "execution_count": 24,
   "id": "bff4dca2-24b0-47e4-8f95-7ee4b8c1f5c6",
   "metadata": {},
   "outputs": [],
   "source": [
    "var1 =' '"
   ]
  },
  {
   "cell_type": "code",
   "execution_count": 25,
   "id": "55fd648d-96e3-4264-b60f-7dc497a4f161",
   "metadata": {},
   "outputs": [
    {
     "data": {
      "text/plain": [
       "str"
      ]
     },
     "execution_count": 25,
     "metadata": {},
     "output_type": "execute_result"
    }
   ],
   "source": [
    "type(var1)"
   ]
  },
  {
   "cell_type": "code",
   "execution_count": 27,
   "id": "4eebf102-0ad7-463b-aeb3-90dbf7de1359",
   "metadata": {},
   "outputs": [],
   "source": [
    "var2 = '[ DS , ML , Python]'"
   ]
  },
  {
   "cell_type": "code",
   "execution_count": 28,
   "id": "97cfdffc-08f0-4c23-8f72-590b73a14740",
   "metadata": {},
   "outputs": [
    {
     "data": {
      "text/plain": [
       "str"
      ]
     },
     "execution_count": 28,
     "metadata": {},
     "output_type": "execute_result"
    }
   ],
   "source": [
    "type(var2)"
   ]
  },
  {
   "cell_type": "code",
   "execution_count": 29,
   "id": "b269a2bc-28f0-4608-868c-70e34d5b1f48",
   "metadata": {},
   "outputs": [],
   "source": [
    "var3 = [ 'DS' , 'ML', 'Python' ]"
   ]
  },
  {
   "cell_type": "code",
   "execution_count": 30,
   "id": "22967fe3-54b7-43e7-8df7-1b8c0b45befd",
   "metadata": {},
   "outputs": [
    {
     "data": {
      "text/plain": [
       "list"
      ]
     },
     "execution_count": 30,
     "metadata": {},
     "output_type": "execute_result"
    }
   ],
   "source": [
    "type(var3)"
   ]
  },
  {
   "cell_type": "code",
   "execution_count": 31,
   "id": "84cda582-9013-41e9-a310-def9d0013384",
   "metadata": {},
   "outputs": [],
   "source": [
    "var4 = 1"
   ]
  },
  {
   "cell_type": "code",
   "execution_count": 32,
   "id": "7ce17e9f-d676-42dc-9935-b33548155bc2",
   "metadata": {},
   "outputs": [
    {
     "data": {
      "text/plain": [
       "int"
      ]
     },
     "execution_count": 32,
     "metadata": {},
     "output_type": "execute_result"
    }
   ],
   "source": [
    "type(var4)"
   ]
  },
  {
   "cell_type": "code",
   "execution_count": 33,
   "id": "4f33165b-e68c-495e-905a-f36a551a897e",
   "metadata": {},
   "outputs": [],
   "source": [
    "#use of operator"
   ]
  },
  {
   "cell_type": "code",
   "execution_count": 34,
   "id": "885deaf5-8d43-4164-be5b-5feb31e64fbc",
   "metadata": {},
   "outputs": [],
   "source": [
    "x=2/4"
   ]
  },
  {
   "cell_type": "code",
   "execution_count": 35,
   "id": "ff936d15-2c47-4c20-a3bf-e3172cfe5706",
   "metadata": {},
   "outputs": [
    {
     "data": {
      "text/plain": [
       "0.5"
      ]
     },
     "execution_count": 35,
     "metadata": {},
     "output_type": "execute_result"
    }
   ],
   "source": [
    "x"
   ]
  },
  {
   "cell_type": "code",
   "execution_count": 40,
   "id": "d53c4da5-c4ad-47b0-8ef7-f8c72db5f9d8",
   "metadata": {},
   "outputs": [],
   "source": [
    "x=6%5"
   ]
  },
  {
   "cell_type": "code",
   "execution_count": 41,
   "id": "d1e93ff4-7570-4e26-a545-9cf41df1f602",
   "metadata": {},
   "outputs": [
    {
     "data": {
      "text/plain": [
       "1"
      ]
     },
     "execution_count": 41,
     "metadata": {},
     "output_type": "execute_result"
    }
   ],
   "source": [
    "x\n"
   ]
  },
  {
   "cell_type": "code",
   "execution_count": 46,
   "id": "5ba28a26-e2f3-4596-b992-ecc7e4242a2e",
   "metadata": {},
   "outputs": [],
   "source": [
    "x=6//4"
   ]
  },
  {
   "cell_type": "code",
   "execution_count": 47,
   "id": "9a592622-203c-40ce-89ac-bc3e06924820",
   "metadata": {},
   "outputs": [
    {
     "data": {
      "text/plain": [
       "1"
      ]
     },
     "execution_count": 47,
     "metadata": {},
     "output_type": "execute_result"
    }
   ],
   "source": [
    "x"
   ]
  },
  {
   "cell_type": "code",
   "execution_count": 50,
   "id": "88f825dc-0216-41f4-a48b-c397aa59315c",
   "metadata": {},
   "outputs": [],
   "source": [
    "x=2**5"
   ]
  },
  {
   "cell_type": "code",
   "execution_count": 51,
   "id": "7a39312b-6d6a-4ef0-b251-2b9fb00f9add",
   "metadata": {},
   "outputs": [
    {
     "data": {
      "text/plain": [
       "32"
      ]
     },
     "execution_count": 51,
     "metadata": {},
     "output_type": "execute_result"
    }
   ],
   "source": [
    "x"
   ]
  },
  {
   "cell_type": "code",
   "execution_count": 53,
   "id": "c487465e-7ce1-4189-8cbb-d112dfb51a22",
   "metadata": {},
   "outputs": [],
   "source": [
    "#List of lemgyh 10 datatye and print using loop"
   ]
  },
  {
   "cell_type": "code",
   "execution_count": 1,
   "id": "018fcbf1-8192-43aa-8c4a-1ea0d36391eb",
   "metadata": {},
   "outputs": [],
   "source": [
    "l=[1,2,4,6,7,8,'char',4+5j,2.5,'ds']"
   ]
  },
  {
   "cell_type": "code",
   "execution_count": 2,
   "id": "4d74f683-997c-44f9-acc4-ed342b0f1b38",
   "metadata": {},
   "outputs": [
    {
     "name": "stdout",
     "output_type": "stream",
     "text": [
      "1\n",
      "2\n",
      "4\n",
      "6\n",
      "7\n",
      "8\n",
      "char\n",
      "(4+5j)\n",
      "2.5\n",
      "ds\n"
     ]
    }
   ],
   "source": [
    "for i in l:\n",
    "    print(i)"
   ]
  },
  {
   "cell_type": "code",
   "execution_count": 3,
   "id": "d5508b46-7fda-45d1-9835-b3b333fee49e",
   "metadata": {},
   "outputs": [],
   "source": [
    "#verify number a purely divisible by b"
   ]
  },
  {
   "cell_type": "code",
   "execution_count": 2,
   "id": "b6187c66-1d7a-44bf-bef1-b3d9f56fee57",
   "metadata": {},
   "outputs": [
    {
     "name": "stdin",
     "output_type": "stream",
     "text": [
      "enter a 20\n"
     ]
    }
   ],
   "source": [
    "a=int(input('enter a'))"
   ]
  },
  {
   "cell_type": "code",
   "execution_count": 4,
   "id": "8a9c29d9-3938-4e67-b688-fd5f048456b6",
   "metadata": {},
   "outputs": [
    {
     "name": "stdin",
     "output_type": "stream",
     "text": [
      "enter b 5\n"
     ]
    }
   ],
   "source": [
    "b=int(input('enter b'))"
   ]
  },
  {
   "cell_type": "code",
   "execution_count": 5,
   "id": "de02d0b6-f418-4066-966e-10503115530a",
   "metadata": {},
   "outputs": [
    {
     "name": "stdout",
     "output_type": "stream",
     "text": [
      "numberof times divisible 4\n"
     ]
    }
   ],
   "source": [
    "if (a%b==0):\n",
    "    print('numberof times divisible',a//b)\n",
    "else:\n",
    "    print('not divisible')"
   ]
  },
  {
   "cell_type": "code",
   "execution_count": null,
   "id": "81613c5f-78c0-482d-8675-07fb184876da",
   "metadata": {},
   "outputs": [],
   "source": [
    "#list conatining 25 integer data"
   ]
  },
  {
   "cell_type": "code",
   "execution_count": 5,
   "id": "c0e0ee1a-f191-45ab-882a-7abf8623b080",
   "metadata": {},
   "outputs": [
    {
     "name": "stdout",
     "output_type": "stream",
     "text": [
      "element is divisible 3\n",
      "element is not divisible 2\n",
      "element is divisible 3\n",
      "element is not divisible 4\n",
      "element is not divisible 5\n",
      "element is divisible 6\n",
      "element is not divisible 7\n",
      "element is not divisible 8\n",
      "element is divisible 9\n",
      "element is not divisible 1\n",
      "element is divisible 12\n",
      "element is not divisible 1\n",
      "element is not divisible 13\n",
      "element is not divisible 1\n",
      "element is not divisible 34\n",
      "element is divisible 15\n",
      "element is divisible 12\n",
      "element is not divisible 34\n",
      "element is not divisible 5\n",
      "element is not divisible 625\n",
      "element is not divisible 22\n",
      "element is divisible 33\n",
      "element is divisible 36\n",
      "element is divisible 21\n",
      "element is not divisible 22\n"
     ]
    }
   ],
   "source": [
    "l=[3,2,3,4,5,6,7,8,9,1,12,1,13,1,34,15,12,34,5,625,22,33,36,21,22]\n",
    "for j in l:\n",
    "        if j%3==0:\n",
    "            print('element is divisible',j)\n",
    "        else:\n",
    "    \n",
    "                print('element is not divisible',j)\n",
    "    \n",
    "\n"
   ]
  },
  {
   "cell_type": "code",
   "execution_count": null,
   "id": "463953f0-b1ea-4be3-843e-7b0693411790",
   "metadata": {},
   "outputs": [],
   "source": [
    "#mutable data is data which can be amended and immutable data cannot be amended\n",
    "\n"
   ]
  },
  {
   "cell_type": "code",
   "execution_count": 2,
   "id": "1d4f3824-8205-454d-9e4d-af50fd2d5f78",
   "metadata": {},
   "outputs": [],
   "source": [
    "l=[1,2,3,4]"
   ]
  },
  {
   "cell_type": "code",
   "execution_count": 3,
   "id": "dccd332b-ff70-4080-813c-bb82235fbf0e",
   "metadata": {},
   "outputs": [],
   "source": [
    "l[2]=4"
   ]
  },
  {
   "cell_type": "code",
   "execution_count": 4,
   "id": "5be3c898-10c1-4f61-8e8d-eceb1ecca852",
   "metadata": {},
   "outputs": [
    {
     "data": {
      "text/plain": [
       "[1, 2, 4, 4]"
      ]
     },
     "execution_count": 4,
     "metadata": {},
     "output_type": "execute_result"
    }
   ],
   "source": [
    "l"
   ]
  },
  {
   "cell_type": "code",
   "execution_count": 6,
   "id": "a5215c8e-c56d-41e0-b744-2735e2625d74",
   "metadata": {},
   "outputs": [],
   "source": [
    "l=(1,2,3,4)"
   ]
  },
  {
   "cell_type": "code",
   "execution_count": 7,
   "id": "d780c83a-738a-4556-8c54-8add06e61864",
   "metadata": {},
   "outputs": [
    {
     "ename": "SyntaxError",
     "evalue": "cannot assign to function call here. Maybe you meant '==' instead of '='? (3914071668.py, line 1)",
     "output_type": "error",
     "traceback": [
      "\u001b[0;36m  Cell \u001b[0;32mIn[7], line 1\u001b[0;36m\u001b[0m\n\u001b[0;31m    l(2)=6\u001b[0m\n\u001b[0m    ^\u001b[0m\n\u001b[0;31mSyntaxError\u001b[0m\u001b[0;31m:\u001b[0m cannot assign to function call here. Maybe you meant '==' instead of '='?\n"
     ]
    }
   ],
   "source": [
    "l(2)=6"
   ]
  },
  {
   "cell_type": "code",
   "execution_count": null,
   "id": "5923bef2-2659-4749-a8c6-d55678695d3a",
   "metadata": {},
   "outputs": [],
   "source": []
  }
 ],
 "metadata": {
  "kernelspec": {
   "display_name": "Python 3 (ipykernel)",
   "language": "python",
   "name": "python3"
  },
  "language_info": {
   "codemirror_mode": {
    "name": "ipython",
    "version": 3
   },
   "file_extension": ".py",
   "mimetype": "text/x-python",
   "name": "python",
   "nbconvert_exporter": "python",
   "pygments_lexer": "ipython3",
   "version": "3.10.8"
  }
 },
 "nbformat": 4,
 "nbformat_minor": 5
}
