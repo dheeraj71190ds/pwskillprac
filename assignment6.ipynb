{
 "cells": [
  {
   "cell_type": "code",
   "execution_count": null,
   "id": "ab0a159d-f792-4a2a-8710-093d11fb0999",
   "metadata": {},
   "outputs": [],
   "source": [
    "#Create a vehicle class with an init method having instance variables as name_of_vehicle, max_speed\n",
    "#and average_of_vehicle."
   ]
  },
  {
   "cell_type": "code",
   "execution_count": 3,
   "id": "8984ad32-81fa-40f9-9d6e-ef7bc7ec27c9",
   "metadata": {},
   "outputs": [],
   "source": [
    "class vehicle:\n",
    "    def __init__(self,name_of_vehicle,max_speed,average_of_vehicle):\n",
    "        self.name_of_vehicle=name_of_vehicle\n",
    "        self.max_speed=max_speed\n",
    "        self.average_of_vehicle=average_of_vehicle"
   ]
  },
  {
   "cell_type": "code",
   "execution_count": 4,
   "id": "1141217d-9331-447f-b824-0759e23d2222",
   "metadata": {},
   "outputs": [],
   "source": [
    "cartype=vehicle(\"brezza\",100,20)"
   ]
  },
  {
   "cell_type": "code",
   "execution_count": 5,
   "id": "c178e2ba-a863-43d0-ac48-c9876eaa4d67",
   "metadata": {},
   "outputs": [
    {
     "data": {
      "text/plain": [
       "20"
      ]
     },
     "execution_count": 5,
     "metadata": {},
     "output_type": "execute_result"
    }
   ],
   "source": [
    "cartype.average_of_vehicle"
   ]
  },
  {
   "cell_type": "code",
   "execution_count": 6,
   "id": "0fae7272-da2c-4442-bb57-c64923c0e5d7",
   "metadata": {},
   "outputs": [
    {
     "data": {
      "text/plain": [
       "100"
      ]
     },
     "execution_count": 6,
     "metadata": {},
     "output_type": "execute_result"
    }
   ],
   "source": [
    "cartype.max_speed"
   ]
  },
  {
   "cell_type": "code",
   "execution_count": 7,
   "id": "b5f75ded-b43f-4e45-a888-1be2660d40d9",
   "metadata": {},
   "outputs": [
    {
     "data": {
      "text/plain": [
       "'brezza'"
      ]
     },
     "execution_count": 7,
     "metadata": {},
     "output_type": "execute_result"
    }
   ],
   "source": [
    "cartype.name_of_vehicle"
   ]
  },
  {
   "cell_type": "code",
   "execution_count": 8,
   "id": "c7144cb6-7637-428f-8816-8a0cdf666c1d",
   "metadata": {},
   "outputs": [],
   "source": [
    "#Create a child class car from the vehicle class created in Que 1, which will inherit the vehicle class.\n",
    "#Create a method named seating_capacity which takes capacity as an argument and returns the name of\n",
    "#the vehicle and its seating capacity."
   ]
  },
  {
   "cell_type": "code",
   "execution_count": 31,
   "id": "3d89c886-ee22-48e4-9995-06720809aa93",
   "metadata": {},
   "outputs": [],
   "source": [
    "class car(vehicle):\n",
    "    def __init__(self,capacity,name_of_vehicle,max_speed,average_of_vehicle):\n",
    "        self.capacity=capacity\n",
    "        vehicle.__init__(self,name_of_vehicle,max_speed,average_of_vehicle)\n",
    "    def seating_capacity(self):\n",
    "        return self.name_of_vehicle,self.capacity\n",
    "        "
   ]
  },
  {
   "cell_type": "code",
   "execution_count": 35,
   "id": "af109ca7-7c25-4961-8586-f0dcba6cb3fa",
   "metadata": {},
   "outputs": [],
   "source": [
    "n=car(24,\"brezza\",100,20)"
   ]
  },
  {
   "cell_type": "code",
   "execution_count": 36,
   "id": "a91435b7-4db4-436e-97f8-94556594918d",
   "metadata": {},
   "outputs": [
    {
     "data": {
      "text/plain": [
       "('brezza', 24)"
      ]
     },
     "execution_count": 36,
     "metadata": {},
     "output_type": "execute_result"
    }
   ],
   "source": [
    "n.seating_capacity()"
   ]
  },
  {
   "cell_type": "code",
   "execution_count": null,
   "id": "169c61f9-d3ba-4730-8183-e8dc8bdcbd48",
   "metadata": {},
   "outputs": [],
   "source": [
    "#What is multiple inheritance? Write a python code to demonstrate multiple inheritance."
   ]
  },
  {
   "cell_type": "code",
   "execution_count": null,
   "id": "9eb98f51-3960-406a-bc90-7297ababe2ad",
   "metadata": {},
   "outputs": [],
   "source": [
    "#multipleis when a class inherits property ofmultiple class"
   ]
  },
  {
   "cell_type": "code",
   "execution_count": 2,
   "id": "2994cff2-a1c9-49ad-af7d-7d9f3ece92fc",
   "metadata": {},
   "outputs": [],
   "source": [
    "class number:\n",
    "    def mentor_phone(self):\n",
    "        print(\"mentor phone number is 98989898998\")"
   ]
  },
  {
   "cell_type": "code",
   "execution_count": 3,
   "id": "f7f9c9cc-297a-4d7e-a6e3-09da7a9f5f10",
   "metadata": {},
   "outputs": [],
   "source": [
    "class email:\n",
    "    def mentor_email(self):\n",
    "        print(\"mentor email is mentor@gmail.com\")"
   ]
  },
  {
   "cell_type": "code",
   "execution_count": 4,
   "id": "3ecea2dd-1d06-4a9d-a0ff-a1b609125dbb",
   "metadata": {},
   "outputs": [],
   "source": [
    "class mentor_info(number,email):\n",
    "    def mentor_name(self):\n",
    "        print(\"mentor name is kosi\")"
   ]
  },
  {
   "cell_type": "code",
   "execution_count": 5,
   "id": "29bb1bdd-0dd3-4202-986c-99b2f4a614b5",
   "metadata": {},
   "outputs": [],
   "source": [
    "detail=mentor_info()"
   ]
  },
  {
   "cell_type": "code",
   "execution_count": 7,
   "id": "5c3eb928-1f5f-472d-9d3e-b1187855cca8",
   "metadata": {},
   "outputs": [
    {
     "name": "stdout",
     "output_type": "stream",
     "text": [
      "mentor phone number is 98989898998\n"
     ]
    }
   ],
   "source": [
    "detail.mentor_phone()"
   ]
  },
  {
   "cell_type": "code",
   "execution_count": 1,
   "id": "df351acd-6638-4c28-9398-8e110a60ea89",
   "metadata": {},
   "outputs": [],
   "source": [
    "#What are getter and setter in python? Create a class and create a getter and a setter method in this\n",
    "#class."
   ]
  },
  {
   "cell_type": "code",
   "execution_count": 2,
   "id": "a7de0003-156e-4964-b5a2-979ac05dba64",
   "metadata": {},
   "outputs": [],
   "source": [
    "# a getter is a method that  allows you to acess atribute of a class and a setter is method that allows you to set a value of attribute of a class"
   ]
  },
  {
   "cell_type": "code",
   "execution_count": 16,
   "id": "d6de4538-2ad1-4862-84e4-fe66420377e2",
   "metadata": {},
   "outputs": [],
   "source": [
    "class examination:\n",
    "    def __init__(self):\n",
    "        self._age=0\n",
    "    @property\n",
    "    def age_access(self):\n",
    "        return self._age\n",
    "    @age_access.setter\n",
    "    def age_access(self,a):\n",
    "        if a<18:\n",
    "            print(\"your age is less than 18\")\n",
    "        else:\n",
    "            self._age=a\n",
    "    "
   ]
  },
  {
   "cell_type": "code",
   "execution_count": 17,
   "id": "c6826939-6e52-4d6f-9b05-b74feafe877d",
   "metadata": {},
   "outputs": [],
   "source": [
    "m=examination()"
   ]
  },
  {
   "cell_type": "code",
   "execution_count": 18,
   "id": "2a4076a4-aa93-433d-b3bc-b19a04eace6e",
   "metadata": {},
   "outputs": [],
   "source": [
    "m.age_access=19"
   ]
  },
  {
   "cell_type": "code",
   "execution_count": 19,
   "id": "7b4bc3df-aaa7-4b68-a367-b8c603d99c1b",
   "metadata": {},
   "outputs": [
    {
     "data": {
      "text/plain": [
       "19"
      ]
     },
     "execution_count": 19,
     "metadata": {},
     "output_type": "execute_result"
    }
   ],
   "source": [
    "m.age_access"
   ]
  },
  {
   "cell_type": "code",
   "execution_count": 20,
   "id": "5af2b85e-7b13-419b-92b2-f00778d89a90",
   "metadata": {},
   "outputs": [
    {
     "name": "stdout",
     "output_type": "stream",
     "text": [
      "your age is less than 18\n"
     ]
    }
   ],
   "source": [
    "m.age_access=17"
   ]
  },
  {
   "cell_type": "code",
   "execution_count": 21,
   "id": "bf22086d-365a-49c0-8387-37322e0d2236",
   "metadata": {},
   "outputs": [],
   "source": [
    "#Q5.What is method overriding in python? Write a python code to demonstrate method overriding."
   ]
  },
  {
   "cell_type": "code",
   "execution_count": 22,
   "id": "2ca3be4b-d4f6-4231-8f67-ba3953462e41",
   "metadata": {},
   "outputs": [],
   "source": [
    "#when we create same method in parent and child class that can be used in different way it is called method overiding"
   ]
  },
  {
   "cell_type": "code",
   "execution_count": 23,
   "id": "d6405e6c-da14-47da-a7d7-76b32acf732c",
   "metadata": {},
   "outputs": [],
   "source": [
    "class a:\n",
    "    def disp(self):\n",
    "        print(\"this is parent clss\")\n",
    "class b(a):\n",
    "    def disp(self):\n",
    "        print(\"this is child cls\")\n",
    "        "
   ]
  },
  {
   "cell_type": "code",
   "execution_count": 24,
   "id": "22aa37d2-0e4d-47c3-b3fd-4bdf28556641",
   "metadata": {},
   "outputs": [],
   "source": [
    "m=a()\n",
    "n=b()"
   ]
  },
  {
   "cell_type": "code",
   "execution_count": 26,
   "id": "491b3555-a2f8-4451-a33d-4bea67d40916",
   "metadata": {},
   "outputs": [
    {
     "name": "stdout",
     "output_type": "stream",
     "text": [
      "this is parent clss\n"
     ]
    }
   ],
   "source": [
    "m.disp()"
   ]
  },
  {
   "cell_type": "code",
   "execution_count": 27,
   "id": "be25be67-a1b6-40cb-98a9-8989b6d99954",
   "metadata": {},
   "outputs": [
    {
     "name": "stdout",
     "output_type": "stream",
     "text": [
      "this is child cls\n"
     ]
    }
   ],
   "source": [
    "n.disp()"
   ]
  },
  {
   "cell_type": "code",
   "execution_count": null,
   "id": "149b4428-2c96-47e2-87ec-07240158d26e",
   "metadata": {},
   "outputs": [],
   "source": []
  }
 ],
 "metadata": {
  "kernelspec": {
   "display_name": "Python 3 (ipykernel)",
   "language": "python",
   "name": "python3"
  },
  "language_info": {
   "codemirror_mode": {
    "name": "ipython",
    "version": 3
   },
   "file_extension": ".py",
   "mimetype": "text/x-python",
   "name": "python",
   "nbconvert_exporter": "python",
   "pygments_lexer": "ipython3",
   "version": "3.10.8"
  }
 },
 "nbformat": 4,
 "nbformat_minor": 5
}
