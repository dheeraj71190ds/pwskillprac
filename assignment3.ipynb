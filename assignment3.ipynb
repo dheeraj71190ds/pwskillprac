{
 "cells": [
  {
   "cell_type": "code",
   "execution_count": null,
   "id": "8cd6bba8-9b19-462d-8489-6d2a15b06462",
   "metadata": {},
   "outputs": [],
   "source": [
    "#Q1. Which keyword is used to create a function? Create a function to return a list of odd numbers in the\n",
    "#range of 1 to 25."
   ]
  },
  {
   "cell_type": "code",
   "execution_count": null,
   "id": "647955f9-332c-4a62-a0fc-2fe960b56efd",
   "metadata": {},
   "outputs": [],
   "source": [
    "#def keyword is used to create function"
   ]
  },
  {
   "cell_type": "code",
   "execution_count": 1,
   "id": "8e66e394-2b3c-48df-8bf9-a4fd016ba798",
   "metadata": {},
   "outputs": [],
   "source": [
    "u=list(range(1,26))"
   ]
  },
  {
   "cell_type": "code",
   "execution_count": 8,
   "id": "4377d5da-b661-4077-a545-93ac207e747f",
   "metadata": {},
   "outputs": [],
   "source": [
    "def odd_fx():\n",
    "    for i in u:\n",
    "        if i%2==0:\n",
    "            yield i"
   ]
  },
  {
   "cell_type": "code",
   "execution_count": 12,
   "id": "4ea6cf62-4eb5-45e2-a446-970c1ebef15d",
   "metadata": {},
   "outputs": [],
   "source": [
    "j=list(odd_fx())"
   ]
  },
  {
   "cell_type": "code",
   "execution_count": 13,
   "id": "b9a7c96d-7f39-4f37-aef1-195893d2f2d7",
   "metadata": {},
   "outputs": [
    {
     "data": {
      "text/plain": [
       "[2, 4, 6, 8, 10, 12, 14, 16, 18, 20, 22, 24]"
      ]
     },
     "execution_count": 13,
     "metadata": {},
     "output_type": "execute_result"
    }
   ],
   "source": [
    "j"
   ]
  },
  {
   "cell_type": "code",
   "execution_count": null,
   "id": "ba83f906-f8b0-489a-aec0-54135b9afe71",
   "metadata": {},
   "outputs": [],
   "source": [
    "#Why *args and **kwargs is used in some functions? Create a function each for *args and **kwargs to\n",
    "#demonstrate their use."
   ]
  },
  {
   "cell_type": "code",
   "execution_count": 2,
   "id": "9e948d35-cdfc-4478-bcf8-0bf3fab33879",
   "metadata": {},
   "outputs": [],
   "source": [
    "# *args is used to pass n no of argument in a function and **kwargs is used to n no of key, value argument in the function"
   ]
  },
  {
   "cell_type": "code",
   "execution_count": 1,
   "id": "24fcc2ff-8358-4513-8d99-2cf8cfbc5fe6",
   "metadata": {},
   "outputs": [],
   "source": [
    "def max(*args):#maximum of input function\n",
    "    x=0\n",
    "    for i in args:\n",
    "         if  i>=x:\n",
    "            x=i\n",
    "    yield x\n"
   ]
  },
  {
   "cell_type": "code",
   "execution_count": 2,
   "id": "73338735-7192-41d5-bd80-38ddba4245ff",
   "metadata": {},
   "outputs": [],
   "source": [
    "for i in max(1,2,71,80,3,70,549,7,9,43,4,5,19999,7568):\n",
    "    j=i"
   ]
  },
  {
   "cell_type": "code",
   "execution_count": 3,
   "id": "4a4e1034-5644-42c7-857a-8550d88078e3",
   "metadata": {},
   "outputs": [
    {
     "data": {
      "text/plain": [
       "19999"
      ]
     },
     "execution_count": 3,
     "metadata": {},
     "output_type": "execute_result"
    }
   ],
   "source": [
    "j"
   ]
  },
  {
   "cell_type": "code",
   "execution_count": 30,
   "id": "9ce7edb0-0654-441d-b3ac-33325200a7ed",
   "metadata": {},
   "outputs": [],
   "source": [
    "def name(**kwargs):\n",
    "    return kwargs"
   ]
  },
  {
   "cell_type": "code",
   "execution_count": 31,
   "id": "3bed98f9-1fb4-40a6-bf3c-85d834bc22a9",
   "metadata": {},
   "outputs": [
    {
     "data": {
      "text/plain": [
       "{'a': 48, 'b': 23, 'c': 87, 'd': 75}"
      ]
     },
     "execution_count": 31,
     "metadata": {},
     "output_type": "execute_result"
    }
   ],
   "source": [
    "name(a = 48,b = 23,c = 87,d = 75)\n",
    "    "
   ]
  },
  {
   "cell_type": "code",
   "execution_count": 6,
   "id": "718eb2bb-3d65-45ad-ab59-8d3267cad3de",
   "metadata": {},
   "outputs": [],
   "source": [
    "#iterator fuction used to through the iterate through the collection of data iter function is used for initialising the object and next () is used for iteration"
   ]
  },
  {
   "cell_type": "code",
   "execution_count": 82,
   "id": "eeea6c30-a0ae-4584-89a6-04c5987b3dd9",
   "metadata": {},
   "outputs": [],
   "source": [
    "z=[2, 4, 6, 8, 10, 12, 14, 16,\n",
    "18, 20]"
   ]
  },
  {
   "cell_type": "code",
   "execution_count": 83,
   "id": "5825da7c-29d7-4428-90c3-4924a2d8c3a0",
   "metadata": {},
   "outputs": [],
   "source": [
    "s=iter(z)"
   ]
  },
  {
   "cell_type": "code",
   "execution_count": 84,
   "id": "345e5180-7898-442f-83fa-c7c812d22aee",
   "metadata": {},
   "outputs": [
    {
     "name": "stdout",
     "output_type": "stream",
     "text": [
      "2 4 6 8 10\n"
     ]
    }
   ],
   "source": [
    "print(next(s),next(s),next(s),next(s),next(s))"
   ]
  },
  {
   "cell_type": "code",
   "execution_count": 50,
   "id": "3672251c-a03f-47f5-91ec-43367d8dda2e",
   "metadata": {},
   "outputs": [],
   "source": [
    "def itru(n):\n",
    "    for i in n:\n",
    "        if i<n[5]:\n",
    "            yield i"
   ]
  },
  {
   "cell_type": "code",
   "execution_count": 51,
   "id": "dcaee90f-0cfa-4181-a004-8c4ce57bef39",
   "metadata": {},
   "outputs": [
    {
     "name": "stdout",
     "output_type": "stream",
     "text": [
      "2\n",
      "4\n",
      "6\n",
      "8\n",
      "10\n"
     ]
    }
   ],
   "source": [
    "for i in itru(z):\n",
    "    print(i)"
   ]
  },
  {
   "cell_type": "code",
   "execution_count": null,
   "id": "ce89867c-203b-46ec-b76f-d4f442a56e74",
   "metadata": {},
   "outputs": [],
   "source": [
    "#generator function is a function which return iterator object which produce desired sequence of values when iterated over\n",
    "#when we want use output returned by function but do not want to store entire sequence of output return from every iteration  yield is used"
   ]
  },
  {
   "cell_type": "code",
   "execution_count": 101,
   "id": "d42e13e3-ac59-4138-b565-40211cab1731",
   "metadata": {},
   "outputs": [],
   "source": [
    "def sq(*args):\n",
    "    for i in args:\n",
    "        i=i**2\n",
    "        yield i"
   ]
  },
  {
   "cell_type": "code",
   "execution_count": 107,
   "id": "fa71ab6c-8cd5-4f0c-b49e-24c580166e1c",
   "metadata": {},
   "outputs": [],
   "source": [
    "z=list(sq(1,2,3,5))"
   ]
  },
  {
   "cell_type": "code",
   "execution_count": 108,
   "id": "7d7eab1a-3e61-4dc6-ba13-d6b2282274bb",
   "metadata": {},
   "outputs": [
    {
     "data": {
      "text/plain": [
       "[1, 4, 9, 25]"
      ]
     },
     "execution_count": 108,
     "metadata": {},
     "output_type": "execute_result"
    }
   ],
   "source": [
    "z"
   ]
  },
  {
   "cell_type": "code",
   "execution_count": 109,
   "id": "da330a20-ef51-4f9e-81a5-6c8e4b905eec",
   "metadata": {},
   "outputs": [],
   "source": [
    "#Create a generator function for prime numbers less than 1000. Use the next() method to print the\n",
    "#first 20 prime numbers."
   ]
  },
  {
   "cell_type": "code",
   "execution_count": 24,
   "id": "9251b6a3-4148-45a9-99ce-1d696d2fc5de",
   "metadata": {},
   "outputs": [],
   "source": [
    "def prime():\n",
    "    for i in list(range(2,1000)):\n",
    "        for j in list(range(2,i)):\n",
    "            if (i%j==0):\n",
    "                break \n",
    "        else:\n",
    "            yield i"
   ]
  },
  {
   "cell_type": "code",
   "execution_count": 25,
   "id": "782ab10d-c0e6-4b01-8c7f-82f42bb9144a",
   "metadata": {},
   "outputs": [],
   "source": [
    "h=list(prime())"
   ]
  },
  {
   "cell_type": "code",
   "execution_count": 26,
   "id": "999a9775-9211-47ed-9b9e-db610676613d",
   "metadata": {},
   "outputs": [],
   "source": [
    "q=iter(h)"
   ]
  },
  {
   "cell_type": "code",
   "execution_count": 27,
   "id": "88d0c34b-c401-4199-867a-8564c99874bf",
   "metadata": {},
   "outputs": [
    {
     "name": "stdout",
     "output_type": "stream",
     "text": [
      "2\n",
      "3\n",
      "5\n",
      "7\n",
      "11\n",
      "13\n",
      "17\n",
      "19\n",
      "23\n",
      "29\n",
      "31\n",
      "37\n",
      "41\n",
      "43\n",
      "47\n",
      "53\n",
      "59\n",
      "61\n",
      "67\n",
      "71\n"
     ]
    }
   ],
   "source": [
    "i=0\n",
    "while i<20:\n",
    "    print(next(q))\n",
    "    i=i+1"
   ]
  },
  {
   "cell_type": "code",
   "execution_count": null,
   "id": "9a35bdcd-45c2-4d35-a9d7-639ca0570ea9",
   "metadata": {},
   "outputs": [],
   "source": []
  }
 ],
 "metadata": {
  "kernelspec": {
   "display_name": "Python 3 (ipykernel)",
   "language": "python",
   "name": "python3"
  },
  "language_info": {
   "codemirror_mode": {
    "name": "ipython",
    "version": 3
   },
   "file_extension": ".py",
   "mimetype": "text/x-python",
   "name": "python",
   "nbconvert_exporter": "python",
   "pygments_lexer": "ipython3",
   "version": "3.10.8"
  }
 },
 "nbformat": 4,
 "nbformat_minor": 5
}
