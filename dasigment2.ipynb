{
 "cells": [
  {
   "cell_type": "code",
   "execution_count": 1,
   "id": "26bdcd65-f79b-404e-8032-38de1b634f71",
   "metadata": {},
   "outputs": [],
   "source": [
    "#we comment using #,\"\" and markdown"
   ]
  },
  {
   "cell_type": "markdown",
   "id": "9897057a-12de-4852-a2aa-a6a75736c4f0",
   "metadata": {},
   "source": [
    "#we comment using #,\"\" and markdown"
   ]
  },
  {
   "cell_type": "code",
   "execution_count": null,
   "id": "0a70df0a-7f4d-4e4e-bab9-d3bdd52b5b07",
   "metadata": {},
   "outputs": [],
   "source": [
    "# variable is a symbolic name that is assigned to  object"
   ]
  },
  {
   "cell_type": "code",
   "execution_count": 2,
   "id": "63ae2287-ebd1-4ce2-af7f-6636f5e3af6f",
   "metadata": {},
   "outputs": [],
   "source": [
    "x=5 #here x is variable and value 5 assigned to it"
   ]
  },
  {
   "cell_type": "code",
   "execution_count": 3,
   "id": "b6367b93-01cd-4434-a954-7a137c6e1ed7",
   "metadata": {},
   "outputs": [
    {
     "data": {
      "text/plain": [
       "5"
      ]
     },
     "execution_count": 3,
     "metadata": {},
     "output_type": "execute_result"
    }
   ],
   "source": [
    "x\n"
   ]
  },
  {
   "cell_type": "code",
   "execution_count": null,
   "id": "f8acef14-ef4d-4606-ba6c-4c084cc025e7",
   "metadata": {},
   "outputs": [],
   "source": [
    "#conversion of one data type to other"
   ]
  },
  {
   "cell_type": "code",
   "execution_count": 4,
   "id": "62911505-947d-4e1f-ab3e-f533915d592c",
   "metadata": {},
   "outputs": [],
   "source": [
    "y=\"pwskills\""
   ]
  },
  {
   "cell_type": "code",
   "execution_count": 5,
   "id": "d1bf0073-ccf3-4537-a333-d4080963a5d6",
   "metadata": {},
   "outputs": [
    {
     "data": {
      "text/plain": [
       "str"
      ]
     },
     "execution_count": 5,
     "metadata": {},
     "output_type": "execute_result"
    }
   ],
   "source": [
    "type(y)"
   ]
  },
  {
   "cell_type": "code",
   "execution_count": 7,
   "id": "32ec54f8-b541-4d2c-8e4c-54f8b5f873a6",
   "metadata": {},
   "outputs": [],
   "source": [
    "y=list(y)"
   ]
  },
  {
   "cell_type": "code",
   "execution_count": 8,
   "id": "02e8142d-e4e7-4a23-a82f-48dcc1128255",
   "metadata": {},
   "outputs": [
    {
     "data": {
      "text/plain": [
       "['p', 'w', 's', 'k', 'i', 'l', 'l', 's']"
      ]
     },
     "execution_count": 8,
     "metadata": {},
     "output_type": "execute_result"
    }
   ],
   "source": [
    "y"
   ]
  },
  {
   "cell_type": "code",
   "execution_count": 9,
   "id": "36ebbfc4-aab5-4c41-9d76-4ecb1bd101e8",
   "metadata": {},
   "outputs": [
    {
     "data": {
      "text/plain": [
       "list"
      ]
     },
     "execution_count": 9,
     "metadata": {},
     "output_type": "execute_result"
    }
   ],
   "source": [
    "type(y)"
   ]
  },
  {
   "cell_type": "code",
   "execution_count": 1,
   "id": "26f6ed7d-5f84-4483-a676-9da7e1da1e85",
   "metadata": {},
   "outputs": [],
   "source": [
    "# we write code in notepad and save using .py extension in a folder then in command /n \n",
    "#promt we will do cd path of the folder in which it is save and then enter our script will run in cmd"
   ]
  },
  {
   "cell_type": "code",
   "execution_count": 2,
   "id": "0fa3438d-8117-489e-9109-3b858b6a352e",
   "metadata": {},
   "outputs": [],
   "source": [
    "# to obtain sublist from list"
   ]
  },
  {
   "cell_type": "code",
   "execution_count": 3,
   "id": "22fe052a-7c78-4f90-b26a-d69fbe42442d",
   "metadata": {},
   "outputs": [],
   "source": [
    "my_list=[1,2,3,4,5]"
   ]
  },
  {
   "cell_type": "code",
   "execution_count": 9,
   "id": "70562628-935f-41ae-a110-576eb809625c",
   "metadata": {},
   "outputs": [],
   "source": [
    "y=my_list[1:3]"
   ]
  },
  {
   "cell_type": "code",
   "execution_count": 10,
   "id": "5b914d63-162f-49fc-8925-71c24c74be9d",
   "metadata": {},
   "outputs": [
    {
     "data": {
      "text/plain": [
       "[2, 3]"
      ]
     },
     "execution_count": 10,
     "metadata": {},
     "output_type": "execute_result"
    }
   ],
   "source": [
    "y"
   ]
  },
  {
   "cell_type": "code",
   "execution_count": 11,
   "id": "1bdc79bc-53e4-4af3-8c92-d880684655ae",
   "metadata": {},
   "outputs": [],
   "source": [
    "# complex number contains both real and imaginary part in a+ib form in python it is written as a +bj"
   ]
  },
  {
   "cell_type": "code",
   "execution_count": 18,
   "id": "57379aad-2b1a-4d12-a663-3ffc9762de45",
   "metadata": {},
   "outputs": [],
   "source": [
    "z=3+2j"
   ]
  },
  {
   "cell_type": "code",
   "execution_count": 20,
   "id": "e8234555-a148-4403-9ad0-3f88cc5d09bf",
   "metadata": {},
   "outputs": [
    {
     "data": {
      "text/plain": [
       "3.0"
      ]
     },
     "execution_count": 20,
     "metadata": {},
     "output_type": "execute_result"
    }
   ],
   "source": [
    "z.real"
   ]
  },
  {
   "cell_type": "code",
   "execution_count": 22,
   "id": "4df4b4b6-c581-477c-bb8b-013b7e8e82d7",
   "metadata": {},
   "outputs": [
    {
     "data": {
      "text/plain": [
       "2.0"
      ]
     },
     "execution_count": 22,
     "metadata": {},
     "output_type": "execute_result"
    }
   ],
   "source": [
    "z.imag"
   ]
  },
  {
   "cell_type": "code",
   "execution_count": 23,
   "id": "2e349034-6e07-4307-88f1-7a23c74fec9b",
   "metadata": {},
   "outputs": [],
   "source": [
    "#declaring a variable  price and assigning a value"
   ]
  },
  {
   "cell_type": "code",
   "execution_count": 24,
   "id": "3363eb76-5aa2-439c-bf2c-49541af65316",
   "metadata": {},
   "outputs": [],
   "source": [
    "price=9.99"
   ]
  },
  {
   "cell_type": "code",
   "execution_count": 25,
   "id": "170dd6a1-eebd-4e79-bef7-e37e28b06753",
   "metadata": {},
   "outputs": [
    {
     "data": {
      "text/plain": [
       "9.99"
      ]
     },
     "execution_count": 25,
     "metadata": {},
     "output_type": "execute_result"
    }
   ],
   "source": [
    "price"
   ]
  },
  {
   "cell_type": "code",
   "execution_count": 26,
   "id": "86ea6ebf-a308-46d0-9a17-e2f8ebed2d1a",
   "metadata": {},
   "outputs": [
    {
     "data": {
      "text/plain": [
       "float"
      ]
     },
     "execution_count": 26,
     "metadata": {},
     "output_type": "execute_result"
    }
   ],
   "source": [
    "type(price)"
   ]
  },
  {
   "cell_type": "code",
   "execution_count": 30,
   "id": "28ad58ce-94ef-47e6-9383-05ffcfc18798",
   "metadata": {},
   "outputs": [],
   "source": [
    "#creating a variable name and assigning string and printing values"
   ]
  },
  {
   "cell_type": "code",
   "execution_count": 31,
   "id": "7a69b72c-237c-43bd-b7dd-aedd6fc4d26d",
   "metadata": {},
   "outputs": [],
   "source": [
    "name=\"dhirendra suyal\""
   ]
  },
  {
   "cell_type": "code",
   "execution_count": 32,
   "id": "39e52bac-cd0e-4ada-9887-aa853ec57c65",
   "metadata": {},
   "outputs": [
    {
     "name": "stdout",
     "output_type": "stream",
     "text": [
      "d\n",
      "h\n",
      "i\n",
      "r\n",
      "e\n",
      "n\n",
      "d\n",
      "r\n",
      "a\n",
      " \n",
      "s\n",
      "u\n",
      "y\n",
      "a\n",
      "l\n"
     ]
    }
   ],
   "source": [
    "for i in name:\n",
    "    print(i)"
   ]
  },
  {
   "cell_type": "code",
   "execution_count": 43,
   "id": "1f3cc461-3990-43f7-a82e-6ea56d25d55b",
   "metadata": {},
   "outputs": [],
   "source": [
    "#extracting World from hello world!"
   ]
  },
  {
   "cell_type": "code",
   "execution_count": 44,
   "id": "00633cbf-7b73-4a43-853f-007a05e776a0",
   "metadata": {},
   "outputs": [],
   "source": [
    "s=\"Hello, World!\""
   ]
  },
  {
   "cell_type": "code",
   "execution_count": 45,
   "id": "81a53543-fe32-4a7b-914f-f15e1039f0d9",
   "metadata": {},
   "outputs": [
    {
     "data": {
      "text/plain": [
       "'World'"
      ]
     },
     "execution_count": 45,
     "metadata": {},
     "output_type": "execute_result"
    }
   ],
   "source": [
    "s[7:-1]"
   ]
  },
  {
   "cell_type": "code",
   "execution_count": 46,
   "id": "2e64282a-9c4b-4792-87a5-c731fe0d8059",
   "metadata": {},
   "outputs": [],
   "source": [
    "#variable name is_student and bolean value"
   ]
  },
  {
   "cell_type": "code",
   "execution_count": 18,
   "id": "de6ce4c1-b6f6-4312-b4e1-5b432f365dc8",
   "metadata": {},
   "outputs": [
    {
     "name": "stdin",
     "output_type": "stream",
     "text": [
      "name: sd\n"
     ]
    },
    {
     "name": "stdout",
     "output_type": "stream",
     "text": [
      "sd notstudent\n"
     ]
    }
   ],
   "source": [
    "is_student=['dhirendra','pradeep','yogi']\n",
    "u=input(\"name:\")\n",
    "for i in is_student:\n",
    "    if i!=u:\n",
    "        h=u\n",
    "        continue\n",
    "    elif i==u:\n",
    "            print(u,\"student\")\n",
    "            break\n",
    "else:\n",
    "        print(h,'notstudent')\n",
    "        "
   ]
  },
  {
   "cell_type": "code",
   "execution_count": 20,
   "id": "134c34c5-1ca5-4368-b8c4-c7c31b03053d",
   "metadata": {},
   "outputs": [
    {
     "name": "stdout",
     "output_type": "stream",
     "text": [
      "you are currently not a student\n"
     ]
    }
   ],
   "source": [
    "is_student=False\n",
    "if is_student==1:\n",
    "    print(\"you are currently a student\")\n",
    "else:\n",
    "    print(\"you are currently not a student\")"
   ]
  },
  {
   "cell_type": "code",
   "execution_count": 21,
   "id": "15d3bf65-8f5d-4cbb-8170-76f0e200f066",
   "metadata": {},
   "outputs": [
    {
     "data": {
      "text/plain": [
       "bool"
      ]
     },
     "execution_count": 21,
     "metadata": {},
     "output_type": "execute_result"
    }
   ],
   "source": [
    "type(is_student)"
   ]
  },
  {
   "cell_type": "code",
   "execution_count": null,
   "id": "8b9e145c-b28b-46a9-bf17-c05c76c1923c",
   "metadata": {},
   "outputs": [],
   "source": []
  }
 ],
 "metadata": {
  "kernelspec": {
   "display_name": "Python 3 (ipykernel)",
   "language": "python",
   "name": "python3"
  },
  "language_info": {
   "codemirror_mode": {
    "name": "ipython",
    "version": 3
   },
   "file_extension": ".py",
   "mimetype": "text/x-python",
   "name": "python",
   "nbconvert_exporter": "python",
   "pygments_lexer": "ipython3",
   "version": "3.10.8"
  }
 },
 "nbformat": 4,
 "nbformat_minor": 5
}
